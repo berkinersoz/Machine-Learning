{
 "cells": [
  {
   "cell_type": "code",
   "execution_count": null,
   "metadata": {
    "id": "4S_TngGbHud_"
   },
   "outputs": [],
   "source": [
    "import tensorflow as tf\n",
    "import pandas as pd \n",
    "import numpy as np \n",
    "import matplotlib.pyplot as plt \n",
    "import seaborn as sns \n",
    "from tensorflow.keras import  layers, models"
   ]
  },
  {
   "cell_type": "code",
   "execution_count": null,
   "metadata": {
    "id": "lgFLUNzXHueI"
   },
   "outputs": [],
   "source": [
    "df = pd.read_csv('age_gender.csv')"
   ]
  },
  {
   "cell_type": "code",
   "execution_count": null,
   "metadata": {
    "colab": {
     "base_uri": "https://localhost:8080/",
     "height": 34
    },
    "id": "BXqPKF-AHueP",
    "outputId": "b3dff3e5-dc5e-4f74-a6e8-d4dded39ee64"
   },
   "outputs": [
    {
     "data": {
      "text/plain": [
       "(23705, 5)"
      ]
     },
     "execution_count": 3,
     "metadata": {
      "tags": []
     },
     "output_type": "execute_result"
    }
   ],
   "source": [
    "df.shape"
   ]
  },
  {
   "cell_type": "code",
   "execution_count": null,
   "metadata": {
    "colab": {
     "base_uri": "https://localhost:8080/",
     "height": 204
    },
    "id": "xm7i3NhhHueX",
    "outputId": "a52cab5b-bfef-4dde-dfc6-d40fe13fd908"
   },
   "outputs": [
    {
     "data": {
      "text/html": [
       "<div>\n",
       "<style scoped>\n",
       "    .dataframe tbody tr th:only-of-type {\n",
       "        vertical-align: middle;\n",
       "    }\n",
       "\n",
       "    .dataframe tbody tr th {\n",
       "        vertical-align: top;\n",
       "    }\n",
       "\n",
       "    .dataframe thead th {\n",
       "        text-align: right;\n",
       "    }\n",
       "</style>\n",
       "<table border=\"1\" class=\"dataframe\">\n",
       "  <thead>\n",
       "    <tr style=\"text-align: right;\">\n",
       "      <th></th>\n",
       "      <th>age</th>\n",
       "      <th>ethnicity</th>\n",
       "      <th>gender</th>\n",
       "      <th>img_name</th>\n",
       "      <th>pixels</th>\n",
       "    </tr>\n",
       "  </thead>\n",
       "  <tbody>\n",
       "    <tr>\n",
       "      <th>0</th>\n",
       "      <td>1</td>\n",
       "      <td>2</td>\n",
       "      <td>0</td>\n",
       "      <td>20161219203650636.jpg.chip.jpg</td>\n",
       "      <td>129 128 128 126 127 130 133 135 139 142 145 14...</td>\n",
       "    </tr>\n",
       "    <tr>\n",
       "      <th>1</th>\n",
       "      <td>1</td>\n",
       "      <td>2</td>\n",
       "      <td>0</td>\n",
       "      <td>20161219222752047.jpg.chip.jpg</td>\n",
       "      <td>164 74 111 168 169 171 175 182 184 188 193 199...</td>\n",
       "    </tr>\n",
       "    <tr>\n",
       "      <th>2</th>\n",
       "      <td>1</td>\n",
       "      <td>2</td>\n",
       "      <td>0</td>\n",
       "      <td>20161219222832191.jpg.chip.jpg</td>\n",
       "      <td>67 70 71 70 69 67 70 79 90 103 116 132 145 155...</td>\n",
       "    </tr>\n",
       "    <tr>\n",
       "      <th>3</th>\n",
       "      <td>1</td>\n",
       "      <td>2</td>\n",
       "      <td>0</td>\n",
       "      <td>20161220144911423.jpg.chip.jpg</td>\n",
       "      <td>193 197 198 200 199 200 202 203 204 205 208 21...</td>\n",
       "    </tr>\n",
       "    <tr>\n",
       "      <th>4</th>\n",
       "      <td>1</td>\n",
       "      <td>2</td>\n",
       "      <td>0</td>\n",
       "      <td>20161220144914327.jpg.chip.jpg</td>\n",
       "      <td>202 205 209 210 209 209 210 211 212 214 218 21...</td>\n",
       "    </tr>\n",
       "  </tbody>\n",
       "</table>\n",
       "</div>"
      ],
      "text/plain": [
       "   age  ...                                             pixels\n",
       "0    1  ...  129 128 128 126 127 130 133 135 139 142 145 14...\n",
       "1    1  ...  164 74 111 168 169 171 175 182 184 188 193 199...\n",
       "2    1  ...  67 70 71 70 69 67 70 79 90 103 116 132 145 155...\n",
       "3    1  ...  193 197 198 200 199 200 202 203 204 205 208 21...\n",
       "4    1  ...  202 205 209 210 209 209 210 211 212 214 218 21...\n",
       "\n",
       "[5 rows x 5 columns]"
      ]
     },
     "execution_count": 4,
     "metadata": {
      "tags": []
     },
     "output_type": "execute_result"
    }
   ],
   "source": [
    "df.head()"
   ]
  },
  {
   "cell_type": "code",
   "execution_count": null,
   "metadata": {
    "colab": {
     "base_uri": "https://localhost:8080/",
     "height": 54
    },
    "id": "4v6oA1DjHued",
    "outputId": "77e94499-f234-4225-c909-6239c1d2e102"
   },
   "outputs": [
    {
     "name": "stdout",
     "output_type": "stream",
     "text": [
      "['129', '128', '128', '126', '127', '130', '133', '135', '139', '142', '145', '149', '147', '145', '146', '147', '148', '149', '149', '150', '153', '153', '153', '152', '153', '153', '153', '153', '153', '151', '149', '147', '146', '146', '144', '143', '140', '134', '129', '129', '126', '122', '121', '119', '118', '118', '99', '53', '130', '129', '128', '126', '127', '130', '135', '141', '143', '143', '144', '145', '143', '142', '144', '145', '146', '149', '149', '148', '151', '151', '151', '151', '152', '153', '153', '153', '153', '149', '148', '147', '146', '146', '142', '141', '138', '133', '130', '130', '128', '123', '124', '122', '120', '117', '98', '52', '131', '129', '130', '129', '129', '134', '138', '144', '145', '143', '143', '139', '140', '138', '139', '140', '142', '145', '147', '149', '151', '149', '149', '149', '151', '152', '151', '150', '150', '148', '147', '145', '144', '142', '140', '137', '136', '135', '134', '131', '128', '126', '126', '123', '122', '114', '97', '50', '135', '134', '133', '132', '131', '136', '142', '145', '147', '144', '141', '143', '138', '131', '133', '134', '137', '139', '143', '147', '148', '149', '149', '149', '151', '151', '149', '147', '147', '146', '141', '139', '135', '137', '137', '137', '137', '138', '137', '134', '132', '129', '130', '124', '124', '115', '95', '52', '138', '139', '139', '135', '134', '138', '140', '140', '140', '140', '140', '140', '139', '134', '131', '127', '131', '131', '133', '138', '143', '148', '149', '149', '150', '151', '148', '144', '141', '138', '139', '133', '133', '137', '139', '139', '141', '140', '140', '136', '132', '131', '132', '125', '125', '115', '91', '50', '141', '145', '144', '138', '135', '139', '139', '133', '127', '123', '124', '122', '125', '126', '129', '127', '129', '126', '126', '129', '137', '145', '149', '147', '149', '149', '147', '141', '135', '133', '134', '132', '132', '133', '134', '134', '137', '139', '141', '137', '135', '134', '133', '127', '125', '113', '82', '47', '147', '147', '145', '141', '138', '136', '132', '124', '117', '117', '116', '114', '107', '104', '108', '112', '115', '117', '120', '126', '133', '142', '146', '145', '147', '148', '147', '141', '135', '129', '122', '119', '115', '116', '120', '122', '124', '126', '138', '139', '138', '136', '135', '128', '124', '115', '72', '48', '148', '150', '149', '147', '141', '134', '125', '121', '122', '126', '122', '119', '114', '114', '117', '123', '124', '124', '127', '131', '135', '140', '143', '145', '147', '149', '149', '144', '139', '133', '129', '128', '115', '105', '110', '115', '121', '120', '130', '133', '138', '138', '138', '133', '124', '115', '58', '46', '148', '152', '152', '149', '143', '136', '124', '122', '128', '132', '132', '134', '135', '137', '136', '133', '134', '136', '135', '134', '139', '143', '144', '145', '149', '151', '150', '147', '141', '135', '136', '133', '129', '128', '130', '131', '129', '126', '120', '121', '132', '140', '142', '136', '129', '100', '63', '54', '148', '155', '153', '150', '146', '139', '135', '135', '139', '143', '146', '148', '145', '140', '137', '138', '134', '134', '139', '138', '143', '145', '147', '148', '153', '155', '151', '148', '143', '137', '137', '135', '141', '149', '146', '144', '140', '136', '132', '120', '129', '135', '139', '138', '134', '104', '125', '128', '150', '154', '154', '150', '145', '142', '142', '142', '144', '141', '143', '135', '129', '127', '126', '133', '134', '134', '137', '139', '142', '146', '149', '154', '156', '155', '152', '148', '140', '143', '134', '130', '137', '139', '138', '151', '144', '146', '144', '138', '136', '140', '142', '142', '133', '117', '155', '149', '151', '154', '154', '149', '144', '144', '141', '141', '138', '130', '117', '97', '81', '78', '86', '102', '118', '131', '134', '135', '143', '149', '152', '154', '155', '155', '150', '145', '138', '136', '127', '122', '97', '84', '101', '117', '134', '149', '146', '144', '143', '143', '145', '143', '130', '141', '135', '90', '151', '154', '153', '150', '147', '146', '142', '141', '129', '113', '86', '60', '58', '49', '33', '48', '83', '109', '130', '133', '145', '151', '154', '155', '157', '155', '150', '143', '132', '124', '70', '39', '39', '83', '71', '70', '109', '125', '142', '147', '142', '145', '146', '143', '130', '120', '69', '63', '151', '153', '155', '153', '151', '150', '142', '131', '109', '86', '53', '102', '80', '75', '26', '107', '51', '93', '124', '136', '146', '153', '155', '155', '156', '158', '151', '143', '137', '82', '25', '76', '58', '83', '151', '80', '73', '113', '134', '149', '148', '150', '147', '142', '122', '104', '67', '82', '151', '153', '156', '157', '155', '152', '145', '136', '124', '113', '123', '134', '78', '28', '23', '43', '69', '117', '128', '148', '147', '153', '159', '159', '159', '159', '153', '148', '146', '60', '22', '26', '41', '88', '159', '123', '103', '105', '128', '150', '148', '150', '153', '143', '127', '109', '69', '92', '150', '154', '156', '159', '159', '161', '163', '162', '161', '157', '139', '135', '113', '51', '35', '56', '90', '141', '152', '153', '154', '162', '170', '172', '170', '168', '161', '155', '163', '120', '70', '30', '45', '111', '143', '129', '132', '135', '144', '150', '156', '154', '156', '147', '120', '101', '94', '86', '146', '153', '156', '159', '163', '169', '171', '172', '171', '168', '165', '157', '152', '136', '127', '133', '149', '145', '156', '162', '168', '173', '177', '176', '175', '172', '168', '164', '161', '153', '144', '141', '131', '138', '143', '150', '157', '152', '153', '155', '156', '154', '150', '147', '116', '115', '95', '52', '143', '151', '156', '160', '165', '166', '169', '172', '171', '168', '162', '157', '152', '144', '136', '137', '143', '154', '166', '171', '176', '178', '178', '175', '173', '172', '170', '170', '166', '162', '155', '141', '136', '142', '156', '162', '159', '159', '157', '156', '157', '154', '151', '140', '119', '121', '55', '31', '141', '148', '153', '157', '161', '163', '166', '169', '169', '167', '162', '157', '153', '149', '147', '151', '158', '166', '172', '175', '178', '176', '174', '173', '172', '170', '169', '170', '173', '170', '166', '154', '146', '149', '154', '160', '163', '162', '160', '157', '153', '150', '151', '134', '138', '85', '35', '33', '138', '146', '150', '155', '159', '161', '164', '167', '169', '169', '167', '163', '159', '156', '157', '161', '168', '172', '173', '176', '178', '176', '170', '171', '169', '168', '167', '168', '169', '170', '170', '165', '160', '156', '156', '160', '163', '164', '160', '156', '152', '146', '145', '132', '113', '35', '32', '33', '136', '144', '149', '153', '158', '160', '163', '165', '168', '168', '170', '167', '164', '165', '166', '169', '172', '169', '168', '169', '171', '170', '167', '169', '168', '166', '162', '162', '164', '166', '169', '172', '169', '165', '165', '166', '167', '165', '160', '156', '152', '144', '141', '129', '58', '30', '29', '30', '136', '142', '147', '151', '154', '159', '160', '164', '166', '168', '169', '170', '169', '170', '170', '172', '170', '168', '162', '163', '163', '166', '167', '169', '168', '166', '160', '156', '160', '165', '169', '172', '173', '169', '169', '169', '167', '164', '160', '158', '153', '149', '129', '136', '39', '29', '29', '29', '131', '140', '144', '149', '153', '157', '159', '164', '167', '172', '172', '173', '172', '172', '171', '169', '168', '161', '155', '153', '156', '166', '172', '172', '173', '167', '159', '153', '156', '163', '168', '169', '170', '170', '172', '170', '168', '164', '160', '158', '152', '141', '131', '123', '36', '28', '27', '27', '129', '139', '145', '150', '151', '155', '160', '165', '169', '172', '174', '174', '174', '174', '171', '168', '164', '158', '147', '148', '162', '168', '168', '170', '175', '167', '154', '151', '150', '157', '164', '167', '168', '171', '174', '172', '169', '164', '160', '157', '155', '137', '126', '62', '25', '28', '27', '27', '122', '136', '143', '148', '146', '150', '157', '162', '166', '168', '170', '171', '171', '172', '170', '167', '160', '151', '144', '159', '168', '162', '162', '159', '158', '156', '159', '160', '151', '152', '160', '162', '166', '168', '170', '168', '166', '163', '160', '155', '150', '136', '67', '23', '28', '23', '25', '25', '115', '134', '141', '148', '146', '150', '154', '159', '165', '167', '168', '169', '169', '169', '168', '165', '157', '147', '144', '153', '137', '132', '139', '138', '149', '146', '134', '140', '154', '152', '152', '162', '164', '167', '167', '167', '165', '161', '159', '154', '147', '134', '40', '28', '23', '26', '24', '24', '102', '132', '140', '145', '145', '148', '151', '156', '161', '163', '165', '166', '166', '166', '165', '164', '155', '142', '134', '133', '88', '81', '99', '111', '113', '94', '67', '88', '129', '151', '153', '157', '160', '164', '165', '164', '162', '160', '158', '153', '145', '124', '26', '25', '25', '24', '24', '24', '91', '122', '140', '145', '143', '145', '148', '151', '156', '159', '161', '162', '162', '163', '166', '164', '157', '149', '133', '133', '128', '128', '130', '125', '130', '137', '133', '125', '141', '151', '152', '151', '159', '162', '164', '164', '161', '158', '155', '150', '142', '108', '24', '24', '24', '22', '24', '24', '82', '104', '138', '141', '143', '145', '145', '148', '152', '154', '158', '159', '159', '160', '161', '159', '155', '151', '150', '153', '153', '153', '159', '146', '151', '157', '147', '149', '152', '153', '152', '152', '155', '161', '163', '163', '158', '155', '154', '149', '135', '92', '28', '21', '22', '20', '22', '22', '73', '86', '129', '138', '141', '142', '141', '144', '146', '150', '153', '156', '156', '160', '159', '156', '155', '151', '147', '151', '152', '151', '164', '148', '153', '155', '148', '148', '149', '149', '150', '150', '154', '159', '159', '159', '156', '151', '150', '144', '130', '125', '88', '32', '23', '24', '18', '23', '73', '69', '102', '132', '135', '141', '136', '140', '143', '144', '149', '151', '152', '155', '153', '150', '149', '146', '139', '140', '144', '154', '156', '150', '156', '155', '143', '142', '145', '147', '150', '150', '154', '155', '153', '153', '152', '147', '144', '138', '134', '128', '128', '107', '45', '23', '28', '20', '71', '59', '75', '124', '136', '130', '133', '135', '137', '140', '143', '145', '147', '149', '147', '145', '142', '135', '131', '134', '134', '145', '142', '148', '152', '145', '141', '138', '134', '137', '141', '146', '149', '151', '147', '145', '142', '141', '138', '135', '137', '137', '133', '136', '115', '49', '19', '28', '73', '66', '62', '94', '129', '133', '130', '130', '132', '135', '137', '139', '140', '138', '138', '135', '127', '121', '113', '125', '124', '115', '101', '112', '119', '109', '122', '130', '127', '123', '130', '141', '143', '144', '140', '137', '135', '133', '136', '140', '138', '146', '139', '138', '135', '116', '44', '21', '81', '63', '59', '61', '97', '131', '131', '128', '129', '130', '132', '135', '135', '134', '132', '119', '99', '71', '64', '60', '50', '42', '55', '73', '73', '52', '62', '81', '87', '95', '118', '130', '136', '138', '135', '133', '131', '128', '135', '143', '148', '148', '148', '148', '142', '141', '98', '32', '89', '69', '63', '59', '73', '105', '124', '130', '127', '125', '129', '132', '132', '130', '124', '112', '98', '90', '79', '96', '100', '88', '84', '92', '93', '91', '96', '99', '94', '89', '104', '117', '128', '133', '133', '130', '132', '129', '140', '147', '153', '149', '151', '151', '148', '147', '131', '73', '102', '82', '67', '62', '65', '81', '105', '119', '124', '123', '126', '127', '125', '121', '121', '123', '121', '109', '109', '111', '114', '122', '126', '121', '133', '124', '116', '120', '125', '114', '104', '114', '125', '132', '132', '125', '127', '137', '151', '152', '146', '150', '152', '152', '151', '144', '137', '114', '114', '95', '75', '65', '64', '74', '82', '91', '111', '121', '116', '121', '121', '121', '122', '124', '124', '121', '114', '111', '120', '126', '126', '129', '127', '122', '123', '129', '134', '128', '118', '115', '121', '124', '125', '127', '134', '146', '151', '138', '140', '151', '153', '153', '149', '152', '142', '135', '123', '106', '88', '69', '64', '71', '81', '76', '71', '93', '114', '111', '114', '119', '122', '125', '128', '129', '126', '113', '111', '110', '108', '110', '117', '123', '126', '136', '136', '130', '126', '123', '121', '121', '121', '132', '144', '154', '143', '123', '140', '153', '155', '155', '156', '152', '150', '137', '129', '112', '102', '84', '69', '71', '78', '85', '69', '63', '88', '102', '102', '106', '115', '119', '126', '131', '133', '131', '125', '119', '117', '118', '124', '133', '136', '136', '133', '128', '123', '120', '117', '123', '127', '139', '149', '156', '120', '134', '143', '152', '156', '158', '158', '150', '153', '145', '136', '121', '112', '96', '82', '77', '81', '86', '85', '65', '63', '83', '90', '97', '101', '111', '117', '127', '137', '143', '150', '150', '150', '152', '149', '148', '141', '135', '127', '117', '117', '110', '111', '121', '132', '142', '151', '146', '116', '140', '145', '154', '157', '159', '158', '155', '155', '150', '139', '128', '121', '110', '95', '89', '91', '91', '89', '78', '67', '63', '70', '83', '84', '99', '108', '121', '131', '139', '150', '146', '146', '146', '146', '143', '135', '125', '114', '116', '121', '112', '116', '132', '137', '146', '151', '134', '121', '142', '149', '156', '158', '160', '156', '156', '151', '145', '132', '139', '130', '120', '106', '101', '98', '98', '98', '90', '78', '71', '67', '68', '70', '75', '84', '101', '121', '131', '136', '139', '134', '134', '133', '129', '118', '112', '111', '122', '125', '118', '125', '139', '143', '147', '146', '120', '126', '141', '149', '156', '158', '160', '160', '157', '148', '139', '129', '141', '138', '129', '116', '110', '108', '107', '105', '104', '91', '80', '75', '73', '81', '82', '76', '71', '90', '118', '129', '116', '110', '113', '109', '105', '106', '112', '121', '129', '126', '126', '129', '142', '148', '150', '145', '113', '129', '142', '149', '156', '157', '158', '158', '157', '151', '143', '129', '138', '146', '136', '125', '119', '118', '115', '114', '112', '102', '91', '82', '79', '82', '91', '99', '95', '96', '99', '103', '98', '97', '103', '108', '110', '118', '124', '130', '131', '131', '131', '137', '144', '147', '147', '136', '111', '131', '141', '146', '153', '156', '154', '154', '153', '150', '145', '129', '140', '148', '141', '132', '127', '127', '125', '123', '117', '110', '102', '93', '85', '87', '93', '100', '106', '107', '107', '110', '108', '114', '113', '113', '117', '120', '125', '133', '136', '135', '137', '142', '144', '145', '144', '131', '111', '133', '139', '144', '149', '152', '153', '153', '153', '152', '146', '121', '138', '147', '146', '139', '135', '132', '133', '131', '124', '116', '108', '102', '97', '97', '103', '107', '111', '112', '113', '116', '116', '117', '117', '122', '125', '128', '131', '136', '138', '137', '137', '140', '142', '143', '140', '123', '114', '128', '135', '138', '143', '145', '149', '151', '151', '150', '148', '117', '137', '146', '146', '143', '138', '135', '135', '134', '128', '122', '116', '112', '108', '107', '109', '113', '117', '118', '117', '118', '119', '121', '124', '127', '129', '131', '132', '135', '137', '137', '137', '138', '141', '142', '133', '108', '107', '124', '134', '136', '140', '142', '146', '148', '149', '148', '148', '115', '135', '142', '142', '141', '140', '137', '135', '135', '130', '125', '122', '118', '115', '114', '116', '121', '123', '124', '123', '124', '122', '124', '125', '128', '129', '131', '132', '135', '135', '135', '136', '138', '135', '133', '124', '90', '104', '123', '129', '134', '138', '142', '144', '144', '146', '146', '146']\n"
     ]
    }
   ],
   "source": [
    "print(df['pixels'][0].split(' '))"
   ]
  },
  {
   "cell_type": "code",
   "execution_count": null,
   "metadata": {
    "colab": {
     "base_uri": "https://localhost:8080/",
     "height": 34
    },
    "id": "KWnmI7NvHuej",
    "outputId": "faf60130-5203-4d9e-ec48-565e14335269"
   },
   "outputs": [
    {
     "data": {
      "text/plain": [
       "48.0"
      ]
     },
     "execution_count": 6,
     "metadata": {
      "tags": []
     },
     "output_type": "execute_result"
    }
   ],
   "source": [
    "np.sqrt(2304)"
   ]
  },
  {
   "cell_type": "code",
   "execution_count": null,
   "metadata": {
    "id": "6A3YRJkuHuep"
   },
   "outputs": [],
   "source": [
    "im_h = 48\n",
    "im_w = 48\n",
    "labels = ['age','ethnicity','gender']"
   ]
  },
  {
   "cell_type": "code",
   "execution_count": null,
   "metadata": {
    "id": "n3SCpbJEHuew"
   },
   "outputs": [],
   "source": [
    "df = df.drop('img_name',axis=1)"
   ]
  },
  {
   "cell_type": "code",
   "execution_count": null,
   "metadata": {
    "id": "o1fdcYMKHue2"
   },
   "outputs": [],
   "source": [
    "X = df.drop(labels,axis=1)\n",
    "y = df[labels]"
   ]
  },
  {
   "cell_type": "code",
   "execution_count": null,
   "metadata": {
    "id": "GRz68cgTHue7"
   },
   "outputs": [],
   "source": [
    "X = pd.Series(X['pixels'])\n",
    "X = X.apply(lambda x: x.split(' '))"
   ]
  },
  {
   "cell_type": "code",
   "execution_count": null,
   "metadata": {
    "colab": {
     "base_uri": "https://localhost:8080/",
     "height": 34
    },
    "id": "4tdt7ZJLHufB",
    "outputId": "d73733fd-59a6-4efb-f4ec-161f3e2b1664"
   },
   "outputs": [
    {
     "data": {
      "text/plain": [
       "(23705,)"
      ]
     },
     "execution_count": 11,
     "metadata": {
      "tags": []
     },
     "output_type": "execute_result"
    }
   ],
   "source": [
    "X = X.apply(lambda x: np.array(list(map(lambda z: np.int(z),x))))\n",
    "X.shape "
   ]
  },
  {
   "cell_type": "code",
   "execution_count": null,
   "metadata": {
    "id": "YMmJyH0PW4Uc"
   },
   "outputs": [],
   "source": []
  },
  {
   "cell_type": "code",
   "execution_count": null,
   "metadata": {
    "id": "pTRM1ub_HufH"
   },
   "outputs": [],
   "source": [
    "X = np.array(X)\n",
    "X = np.stack(X,axis=0)\n",
    "X = X / 255"
   ]
  },
  {
   "cell_type": "code",
   "execution_count": null,
   "metadata": {
    "id": "2PLAoobMHufL"
   },
   "outputs": [],
   "source": [
    "X = X.reshape(-1,48,48,1)"
   ]
  },
  {
   "cell_type": "code",
   "execution_count": null,
   "metadata": {
    "colab": {
     "base_uri": "https://localhost:8080/",
     "height": 301
    },
    "id": "3iWRWpmmW-kZ",
    "outputId": "8662bb1b-5cce-4944-e822-80656cc333c2"
   },
   "outputs": [
    {
     "name": "stdout",
     "output_type": "stream",
     "text": [
      "0\n"
     ]
    },
    {
     "data": {
      "text/plain": [
       "<matplotlib.image.AxesImage at 0x7fb245e14908>"
      ]
     },
     "execution_count": 15,
     "metadata": {
      "tags": []
     },
     "output_type": "execute_result"
    },
    {
     "data": {
      "image/png": "[encoded data removed]",
      "text/plain": [
       "<Figure size 432x288 with 1 Axes>"
      ]
     },
     "metadata": {
      "needs_background": "light",
      "tags": []
     },
     "output_type": "display_data"
    }
   ],
   "source": [
    "print(y.gender[0])\n",
    "plt.imshow(X[0,:,:])\n"
   ]
  },
  {
   "cell_type": "code",
   "execution_count": null,
   "metadata": {
    "colab": {
     "base_uri": "https://localhost:8080/",
     "height": 1000
    },
    "id": "zsf2uHMkdLT9",
    "outputId": "288f10e5-3b6c-49a9-8438-9082cb4985fc"
   },
   "outputs": [
    {
     "data": {
      "text/plain": [
       "{'age': [1,\n",
       "  10,\n",
       "  100,\n",
       "  101,\n",
       "  103,\n",
       "  105,\n",
       "  11,\n",
       "  110,\n",
       "  111,\n",
       "  115,\n",
       "  116,\n",
       "  12,\n",
       "  13,\n",
       "  14,\n",
       "  15,\n",
       "  16,\n",
       "  17,\n",
       "  18,\n",
       "  19,\n",
       "  2,\n",
       "  20,\n",
       "  21,\n",
       "  22,\n",
       "  23,\n",
       "  24,\n",
       "  25,\n",
       "  26,\n",
       "  27,\n",
       "  28,\n",
       "  29,\n",
       "  3,\n",
       "  30,\n",
       "  31,\n",
       "  32,\n",
       "  33,\n",
       "  34,\n",
       "  35,\n",
       "  36,\n",
       "  37,\n",
       "  38,\n",
       "  39,\n",
       "  4,\n",
       "  40,\n",
       "  41,\n",
       "  42,\n",
       "  43,\n",
       "  44,\n",
       "  45,\n",
       "  46,\n",
       "  47,\n",
       "  48,\n",
       "  49,\n",
       "  5,\n",
       "  50,\n",
       "  51,\n",
       "  52,\n",
       "  53,\n",
       "  54,\n",
       "  55,\n",
       "  56,\n",
       "  57,\n",
       "  58,\n",
       "  59,\n",
       "  6,\n",
       "  60,\n",
       "  61,\n",
       "  62,\n",
       "  63,\n",
       "  64,\n",
       "  65,\n",
       "  66,\n",
       "  67,\n",
       "  68,\n",
       "  69,\n",
       "  7,\n",
       "  70,\n",
       "  71,\n",
       "  72,\n",
       "  73,\n",
       "  74,\n",
       "  75,\n",
       "  76,\n",
       "  77,\n",
       "  78,\n",
       "  79,\n",
       "  8,\n",
       "  80,\n",
       "  81,\n",
       "  82,\n",
       "  83,\n",
       "  84,\n",
       "  85,\n",
       "  86,\n",
       "  87,\n",
       "  88,\n",
       "  89,\n",
       "  9,\n",
       "  90,\n",
       "  91,\n",
       "  92,\n",
       "  93,\n",
       "  95,\n",
       "  96,\n",
       "  99],\n",
       " 'ethnicity': [2, 3, 4, 0, 1],\n",
       " 'gender': [0, 1]}"
      ]
     },
     "execution_count": 16,
     "metadata": {
      "tags": []
     },
     "output_type": "execute_result"
    }
   ],
   "source": [
    "{column: list(df[column].unique()) for column in ['gender', 'ethnicity', 'age']}"
   ]
  },
  {
   "cell_type": "code",
   "execution_count": null,
   "metadata": {
    "id": "rorFddg6HufS"
   },
   "outputs": [],
   "source": [
    "y_gender = np.array(y['gender'])\n",
    "y_ethnicity = np.array(y['ethnicity'])\n",
    "y_age = np.array(y['age'])"
   ]
  },
  {
   "cell_type": "code",
   "execution_count": null,
   "metadata": {
    "id": "SBPKXiahHufY"
   },
   "outputs": [],
   "source": [
    "from sklearn.model_selection import train_test_split\n",
    "X_gender_train,X_gender_test,y_gender_train,y_gender_test = train_test_split(X,y_gender,test_size=0.2)\n",
    "X_ethnicity_train,X_ethnicity_test,y_ethnicity_train,y_ethnicity_test = train_test_split(X,y_ethnicity,test_size=0.2)\n",
    "X_age_train,X_age_test,y_age_train,y_age_test = train_test_split(X,y_age,test_size=0.2)"
   ]
  },
  {
   "cell_type": "code",
   "execution_count": null,
   "metadata": {
    "id": "OS51Hi0THufi"
   },
   "outputs": [],
   "source": [
    "num_epochs = 5\n",
    "learning_rate = 0.001"
   ]
  },
  {
   "cell_type": "code",
   "execution_count": null,
   "metadata": {
    "id": "nyu-Gt0HHufs"
   },
   "outputs": [],
   "source": [
    "def build_model(input_shape,classes,epochs, activation, loss):\n",
    "   model = tf.keras.Sequential()\n",
    "   model.add(tf.keras.layers.Input(input_shape))\n",
    "   model.add(layers.Conv2D(16,3,padding='same',activation='relu'))\n",
    "   model.add(layers.MaxPool2D())\n",
    "   model.add(layers.Conv2D(32,3,padding='same',activation='relu'))\n",
    "   model.add(layers.MaxPool2D())\n",
    "   model.add(layers.Conv2D(64,3,padding='same',activation='relu'))\n",
    "   model.add(layers.MaxPool2D())\n",
    "   model.add(layers.Flatten())\n",
    "   model.add(layers.Dense(64*6*6,activation='relu',))\n",
    "   model.add(layers.Dense(classes,activation=activation))\n",
    "\n",
    "   model.compile(optimizer = 'Adam',\n",
    "                 loss = loss,\n",
    "                 metrics=['accuracy'])\n",
    "   return model"
   ]
  },
  {
   "cell_type": "code",
   "execution_count": null,
   "metadata": {
    "id": "BiYt4gQ8Hufw"
   },
   "outputs": [],
   "source": [
    "gender_model = build_model(X_gender_train.shape[1:],2,epochs=num_epochs,activation='sigmoid',loss='sparse_categorical_crossentropy')"
   ]
  },
  {
   "cell_type": "code",
   "execution_count": null,
   "metadata": {
    "colab": {
     "base_uri": "https://localhost:8080/",
     "height": 459
    },
    "id": "NzpN6cujHufz",
    "outputId": "39db1322-9fc7-4833-b621-8b571e15d3a8"
   },
   "outputs": [
    {
     "name": "stdout",
     "output_type": "stream",
     "text": [
      "Model: \"sequential_7\"\n",
      "_________________________________________________________________\n",
      "Layer (type)                 Output Shape              Param #   \n",
      "=================================================================\n",
      "conv2d_17 (Conv2D)           (None, 48, 48, 16)        160       \n",
      "_________________________________________________________________\n",
      "max_pooling2d_15 (MaxPooling (None, 24, 24, 16)        0         \n",
      "_________________________________________________________________\n",
      "conv2d_18 (Conv2D)           (None, 24, 24, 32)        4640      \n",
      "_________________________________________________________________\n",
      "max_pooling2d_16 (MaxPooling (None, 12, 12, 32)        0         \n",
      "_________________________________________________________________\n",
      "conv2d_19 (Conv2D)           (None, 12, 12, 64)        18496     \n",
      "_________________________________________________________________\n",
      "max_pooling2d_17 (MaxPooling (None, 6, 6, 64)          0         \n",
      "_________________________________________________________________\n",
      "flatten_5 (Flatten)          (None, 2304)              0         \n",
      "_________________________________________________________________\n",
      "dense_10 (Dense)             (None, 2304)              5310720   \n",
      "_________________________________________________________________\n",
      "dense_11 (Dense)             (None, 2)                 4610      \n",
      "=================================================================\n",
      "Total params: 5,338,626\n",
      "Trainable params: 5,338,626\n",
      "Non-trainable params: 0\n",
      "_________________________________________________________________\n"
     ]
    }
   ],
   "source": [
    "gender_model.summary()"
   ]
  },
  {
   "cell_type": "code",
   "execution_count": null,
   "metadata": {
    "colab": {
     "base_uri": "https://localhost:8080/",
     "height": 207
    },
    "id": "wceo3YGyHuf3",
    "outputId": "e193a308-d4c2-47bd-f637-cc29737ede3f"
   },
   "outputs": [
    {
     "name": "stdout",
     "output_type": "stream",
     "text": [
      "Epoch 1/5\n",
      "475/475 [==============================] - 55s 115ms/step - loss: 0.4407 - accuracy: 0.7815 - val_loss: 0.4153 - val_accuracy: 0.8099\n",
      "Epoch 2/5\n",
      "475/475 [==============================] - 55s 116ms/step - loss: 0.3126 - accuracy: 0.8583 - val_loss: 0.3240 - val_accuracy: 0.8526\n",
      "Epoch 3/5\n",
      "475/475 [==============================] - 55s 115ms/step - loss: 0.2743 - accuracy: 0.8749 - val_loss: 0.2890 - val_accuracy: 0.8729\n",
      "Epoch 4/5\n",
      "475/475 [==============================] - 55s 116ms/step - loss: 0.2509 - accuracy: 0.8897 - val_loss: 0.3333 - val_accuracy: 0.8619\n",
      "Epoch 5/5\n",
      "475/475 [==============================] - 55s 116ms/step - loss: 0.2314 - accuracy: 0.8997 - val_loss: 0.3041 - val_accuracy: 0.8793\n"
     ]
    }
   ],
   "source": [
    "gender_history = gender_model.fit(X_gender_train,\n",
    "    y_gender_train,\n",
    "    batch_size=32,\n",
    "    validation_split=0.2,\n",
    "    epochs = 5\n",
    "    )\n"
   ]
  },
  {
   "cell_type": "code",
   "execution_count": null,
   "metadata": {
    "colab": {
     "base_uri": "https://localhost:8080/",
     "height": 357
    },
    "id": "Ly9kpEQUHuf6",
    "outputId": "27db7873-6921-49ff-8ee6-d45d7bfcf582"
   },
   "outputs": [
    {
     "data": {
      "text/plain": [
       "{'accuracy': [0.7814909815788269,\n",
       "  0.8583481907844543,\n",
       "  0.8748928904533386,\n",
       "  0.8897238373756409,\n",
       "  0.8997429013252258],\n",
       " 'loss': [0.440736323595047,\n",
       "  0.3125883936882019,\n",
       "  0.2743362486362457,\n",
       "  0.2509059011936188,\n",
       "  0.23135380446910858],\n",
       " 'val_accuracy': [0.8099129796028137,\n",
       "  0.8526232242584229,\n",
       "  0.8729237914085388,\n",
       "  0.8618507981300354,\n",
       "  0.87925124168396],\n",
       " 'val_loss': [0.41531434655189514,\n",
       "  0.3240482211112976,\n",
       "  0.2889721095561981,\n",
       "  0.33327624201774597,\n",
       "  0.30412960052490234]}"
      ]
     },
     "execution_count": 76,
     "metadata": {
      "tags": []
     },
     "output_type": "execute_result"
    }
   ],
   "source": [
    "epochs = np.arange(0,5)\n",
    "gender_history.history"
   ]
  },
  {
   "cell_type": "code",
   "execution_count": null,
   "metadata": {
    "colab": {
     "base_uri": "https://localhost:8080/",
     "height": 281
    },
    "id": "KIoDEGwFgOsY",
    "outputId": "e77bcdf7-a90c-48c6-f34d-ccf8e605f6b4"
   },
   "outputs": [
    {
     "data": {
      "image/png": "[encoded data removed]",
      "text/plain": [
       "<Figure size 432x288 with 1 Axes>"
      ]
     },
     "metadata": {
      "tags": []
     },
     "output_type": "display_data"
    }
   ],
   "source": [
    "sns.set_style('darkgrid')\n",
    "col  = ['loss','val_loss']\n",
    "for key in col:\n",
    "  ax = sns.lineplot(x = epochs,y = gender_history.history[key], label=key)\n",
    "ax.set_title('Total Loss In Gender Prediction')  \n",
    "leg = ax.legend();"
   ]
  },
  {
   "cell_type": "code",
   "execution_count": null,
   "metadata": {
    "colab": {
     "base_uri": "https://localhost:8080/",
     "height": 281
    },
    "id": "-aoj8zS_vWE9",
    "outputId": "9c802eaa-5b23-4ca4-8575-dd0f98876711"
   },
   "outputs": [
    {
     "data": {
      "image/png": "[encoded data removed]",
      "text/plain": [
       "<Figure size 432x288 with 1 Axes>"
      ]
     },
     "metadata": {
      "tags": []
     },
     "output_type": "display_data"
    }
   ],
   "source": [
    "sns.set_style('darkgrid')\n",
    "col  = ['accuracy','val_accuracy']\n",
    "for key in col:\n",
    "  ax = sns.lineplot(x = epochs,y = gender_history.history[key], label=key)\n",
    "ax.set_title('Total Accuracy In Gender')  \n",
    "leg = ax.legend();"
   ]
  },
  {
   "cell_type": "code",
   "execution_count": null,
   "metadata": {
    "colab": {
     "base_uri": "https://localhost:8080/",
     "height": 34
    },
    "id": "w7h5bx7Tg88_",
    "outputId": "5966ba20-4510-44ac-a1e4-731195220fc8"
   },
   "outputs": [
    {
     "name": "stdout",
     "output_type": "stream",
     "text": [
      "149/149 [==============================] - 4s 29ms/step - loss: 0.2775 - accuracy: 0.8794\n"
     ]
    }
   ],
   "source": [
    "gender_accuracy = gender_model.evaluate(X_gender_test,y_gender_test)"
   ]
  },
  {
   "cell_type": "code",
   "execution_count": null,
   "metadata": {
    "colab": {
     "base_uri": "https://localhost:8080/",
     "height": 34
    },
    "id": "3oaAIhzGhTXK",
    "outputId": "0a117b83-e5ac-490c-9662-1249c06adfa9"
   },
   "outputs": [
    {
     "data": {
      "text/plain": [
       "5"
      ]
     },
     "execution_count": 78,
     "metadata": {
      "tags": []
     },
     "output_type": "execute_result"
    }
   ],
   "source": [
    "ethinicty_classes = len(np.unique(y_ethnicity))\n",
    "ethinicty_classes"
   ]
  },
  {
   "cell_type": "code",
   "execution_count": null,
   "metadata": {
    "id": "g5Ntv2UbhfEV"
   },
   "outputs": [],
   "source": [
    "ethinicty_model = build_model(X_ethnicity_train.shape[1:],ethinicty_classes,epochs=5,activation='softmax',loss='sparse_categorical_crossentropy')"
   ]
  },
  {
   "cell_type": "code",
   "execution_count": null,
   "metadata": {
    "colab": {
     "base_uri": "https://localhost:8080/",
     "height": 459
    },
    "id": "E_f3UqwKh5b3",
    "outputId": "ff63113c-f66c-4dca-864b-a9d25535ac56"
   },
   "outputs": [
    {
     "name": "stdout",
     "output_type": "stream",
     "text": [
      "Model: \"sequential_8\"\n",
      "_________________________________________________________________\n",
      "Layer (type)                 Output Shape              Param #   \n",
      "=================================================================\n",
      "conv2d_20 (Conv2D)           (None, 48, 48, 16)        160       \n",
      "_________________________________________________________________\n",
      "max_pooling2d_18 (MaxPooling (None, 24, 24, 16)        0         \n",
      "_________________________________________________________________\n",
      "conv2d_21 (Conv2D)           (None, 24, 24, 32)        4640      \n",
      "_________________________________________________________________\n",
      "max_pooling2d_19 (MaxPooling (None, 12, 12, 32)        0         \n",
      "_________________________________________________________________\n",
      "conv2d_22 (Conv2D)           (None, 12, 12, 64)        18496     \n",
      "_________________________________________________________________\n",
      "max_pooling2d_20 (MaxPooling (None, 6, 6, 64)          0         \n",
      "_________________________________________________________________\n",
      "flatten_6 (Flatten)          (None, 2304)              0         \n",
      "_________________________________________________________________\n",
      "dense_12 (Dense)             (None, 2304)              5310720   \n",
      "_________________________________________________________________\n",
      "dense_13 (Dense)             (None, 5)                 11525     \n",
      "=================================================================\n",
      "Total params: 5,345,541\n",
      "Trainable params: 5,345,541\n",
      "Non-trainable params: 0\n",
      "_________________________________________________________________\n"
     ]
    }
   ],
   "source": [
    "ethinicty_model.summary()"
   ]
  },
  {
   "cell_type": "code",
   "execution_count": null,
   "metadata": {
    "colab": {
     "base_uri": "https://localhost:8080/",
     "height": 207
    },
    "id": "49AIOhbrh7Vx",
    "outputId": "799cf2a8-6a19-4304-9879-071049b6bc0d"
   },
   "outputs": [
    {
     "name": "stdout",
     "output_type": "stream",
     "text": [
      "Epoch 1/5\n",
      "475/475 [==============================] - 57s 119ms/step - loss: 1.0735 - accuracy: 0.6002 - val_loss: 0.8488 - val_accuracy: 0.6860\n",
      "Epoch 2/5\n",
      "475/475 [==============================] - 57s 121ms/step - loss: 0.7761 - accuracy: 0.7230 - val_loss: 0.7754 - val_accuracy: 0.7195\n",
      "Epoch 3/5\n",
      "475/475 [==============================] - 57s 121ms/step - loss: 0.6820 - accuracy: 0.7600 - val_loss: 0.7178 - val_accuracy: 0.7464\n",
      "Epoch 4/5\n",
      "475/475 [==============================] - 57s 120ms/step - loss: 0.6235 - accuracy: 0.7812 - val_loss: 0.6652 - val_accuracy: 0.7685\n",
      "Epoch 5/5\n",
      "475/475 [==============================] - 57s 120ms/step - loss: 0.5678 - accuracy: 0.8010 - val_loss: 0.6661 - val_accuracy: 0.7611\n"
     ]
    }
   ],
   "source": [
    "ethinicity_history = ethinicty_model.fit(X_ethnicity_train,y_ethnicity_train,\n",
    "                                         batch_size=32,\n",
    "                                         validation_split=0.2,\n",
    "                                         epochs=5)\n"
   ]
  },
  {
   "cell_type": "code",
   "execution_count": null,
   "metadata": {
    "colab": {
     "base_uri": "https://localhost:8080/",
     "height": 357
    },
    "id": "PaI0jxrXTCqH",
    "outputId": "db8f9c71-de2e-4e77-eaf1-ddce3cfdb9b7"
   },
   "outputs": [
    {
     "data": {
      "text/plain": [
       "{'accuracy': [0.6001582145690918,\n",
       "  0.7230241894721985,\n",
       "  0.760002613067627,\n",
       "  0.7812273502349854,\n",
       "  0.8010019063949585],\n",
       " 'loss': [1.0734879970550537,\n",
       "  0.7761379480361938,\n",
       "  0.6819728016853333,\n",
       "  0.6235200762748718,\n",
       "  0.5677881240844727],\n",
       " 'val_accuracy': [0.6860005259513855,\n",
       "  0.7194832563400269,\n",
       "  0.7463749051094055,\n",
       "  0.7685209512710571,\n",
       "  0.761138916015625],\n",
       " 'val_loss': [0.8487730622291565,\n",
       "  0.7754175066947937,\n",
       "  0.7178142666816711,\n",
       "  0.6651668548583984,\n",
       "  0.6660594344139099]}"
      ]
     },
     "execution_count": 86,
     "metadata": {
      "tags": []
     },
     "output_type": "execute_result"
    }
   ],
   "source": [
    "ethinicity_history.history"
   ]
  },
  {
   "cell_type": "code",
   "execution_count": null,
   "metadata": {
    "colab": {
     "base_uri": "https://localhost:8080/",
     "height": 281
    },
    "id": "WeT6y-oXP2cX",
    "outputId": "101d9b8c-c15c-4b48-e749-f401c6a5ec3b"
   },
   "outputs": [
    {
     "data": {
      "image/png": "[encoded data removed]",
      "text/plain": [
       "<Figure size 432x288 with 1 Axes>"
      ]
     },
     "metadata": {
      "tags": []
     },
     "output_type": "display_data"
    }
   ],
   "source": [
    "sns.set_style('darkgrid')\n",
    "col  = ['loss','val_loss']\n",
    "for key in col:\n",
    "  ax = sns.lineplot(x = epochs,y = ethinicity_history.history[key], label=key)\n",
    "ax.set_title('Total Loss')  \n",
    "leg = ax.legend();"
   ]
  },
  {
   "cell_type": "code",
   "execution_count": null,
   "metadata": {
    "colab": {
     "base_uri": "https://localhost:8080/",
     "height": 281
    },
    "id": "LUrWWt0PTVLy",
    "outputId": "853008f5-2fac-410b-c9c9-6c4d76ba9905"
   },
   "outputs": [
    {
     "data": {
      "image/png": "[encoded data removed]",
      "text/plain": [
       "<Figure size 432x288 with 1 Axes>"
      ]
     },
     "metadata": {
      "tags": []
     },
     "output_type": "display_data"
    }
   ],
   "source": [
    "sns.set_style('darkgrid')\n",
    "col  = ['accuracy','val_accuracy']\n",
    "for key in col:\n",
    "  ax = sns.lineplot(x = epochs,y = ethinicity_history.history[key], label=key)\n",
    "ax.set_title('Total Accuracy In Ethinicty')  \n",
    "leg = ax.legend();"
   ]
  },
  {
   "cell_type": "code",
   "execution_count": null,
   "metadata": {
    "colab": {
     "base_uri": "https://localhost:8080/",
     "height": 34
    },
    "id": "QVaOuQQGSDa6",
    "outputId": "0b267998-2a1e-4a09-a72e-4b5ecc28b901"
   },
   "outputs": [
    {
     "name": "stdout",
     "output_type": "stream",
     "text": [
      "149/149 [==============================] - 4s 29ms/step - loss: 0.7077 - accuracy: 0.7623\n"
     ]
    }
   ],
   "source": [
    "ethinicty_accuracy = ethinicty_model.evaluate(X_ethnicity_test,y_ethnicity_test)"
   ]
  },
  {
   "cell_type": "code",
   "execution_count": null,
   "metadata": {
    "id": "Iw4IgRoGkjoy"
   },
   "outputs": [],
   "source": [
    "def build_age_model(input_shape,classes,epochs, activation, loss):\n",
    "   model = tf.keras.Sequential()\n",
    "   model.add(tf.keras.layers.Input(input_shape))\n",
    "   model.add(layers.Conv2D(16,3,padding='same',activation='relu'))\n",
    "   model.add(layers.MaxPool2D())\n",
    "   model.add(layers.Conv2D(32,3,padding='same',activation='relu'))\n",
    "   model.add(layers.MaxPool2D())\n",
    "   model.add(layers.Conv2D(64,3,padding='same',activation='relu'))\n",
    "   model.add(layers.MaxPool2D())\n",
    "   model.add(layers.Flatten())\n",
    "   model.add(layers.Dense(64*6*6,activation='relu',))\n",
    "   model.add(layers.Dense(classes,activation=activation))\n",
    "\n",
    "   model.compile(optimizer = 'Adam',\n",
    "                 loss = loss,\n",
    "                 metrics=['mae'])\n",
    "   return model"
   ]
  },
  {
   "cell_type": "code",
   "execution_count": null,
   "metadata": {
    "id": "Na0e61QAOqh7"
   },
   "outputs": [],
   "source": [
    "age_model = build_age_model(X_age_train.shape[1:],1,epochs=5,activation='relu',loss='mse')"
   ]
  },
  {
   "cell_type": "code",
   "execution_count": null,
   "metadata": {
    "colab": {
     "base_uri": "https://localhost:8080/",
     "height": 207
    },
    "id": "dj455PNoO1Cz",
    "outputId": "a9b85717-a728-4c80-8461-55b1eb6ebc95"
   },
   "outputs": [
    {
     "name": "stdout",
     "output_type": "stream",
     "text": [
      "Epoch 1/5\n",
      "475/475 [==============================] - 57s 120ms/step - loss: 394.3516 - mae: 15.0091 - val_loss: 214.5247 - val_mae: 11.0454\n",
      "Epoch 2/5\n",
      "475/475 [==============================] - 56s 119ms/step - loss: 194.8406 - mae: 10.4699 - val_loss: 170.1240 - val_mae: 9.4553\n",
      "Epoch 3/5\n",
      "475/475 [==============================] - 56s 119ms/step - loss: 150.8868 - mae: 9.1051 - val_loss: 148.9954 - val_mae: 8.7843\n",
      "Epoch 4/5\n",
      "475/475 [==============================] - 56s 119ms/step - loss: 125.6591 - mae: 8.2676 - val_loss: 129.5149 - val_mae: 8.1056\n",
      "Epoch 5/5\n",
      "475/475 [==============================] - 56s 119ms/step - loss: 111.0433 - mae: 7.7732 - val_loss: 121.2877 - val_mae: 7.8668\n"
     ]
    }
   ],
   "source": [
    "age_history = age_model.fit(X_age_train,y_age_train,\n",
    "                                         batch_size=32,\n",
    "                                         validation_split=0.2,\n",
    "                                         epochs=5)"
   ]
  },
  {
   "cell_type": "code",
   "execution_count": null,
   "metadata": {
    "colab": {
     "base_uri": "https://localhost:8080/",
     "height": 34
    },
    "id": "qwTWSselh4_7",
    "outputId": "db33f43d-943d-4519-c905-4f44bda096d3"
   },
   "outputs": [
    {
     "name": "stdout",
     "output_type": "stream",
     "text": [
      "149/149 [==============================] - 4s 29ms/step - loss: 119.8617 - mae: 7.8394\n"
     ]
    }
   ],
   "source": [
    "mse,mae = age_model.evaluate(X_age_test,y_age_test)"
   ]
  },
  {
   "cell_type": "code",
   "execution_count": null,
   "metadata": {
    "colab": {
     "base_uri": "https://localhost:8080/",
     "height": 51
    },
    "id": "g_wSQYY3T3tV",
    "outputId": "4e100360-294a-4aff-e526-b9b4db41783d"
   },
   "outputs": [
    {
     "name": "stdout",
     "output_type": "stream",
     "text": [
      "Mean Squared Error: 119.86165618896484 \n",
      "Mean Absolute Error: 7.8394036293029785\n"
     ]
    }
   ],
   "source": [
    "print('Mean Squared Error: {} '.format(mse))\n",
    "print('Mean Absolute Error: {}'.format(mae) )"
   ]
  },
  {
   "cell_type": "code",
   "execution_count": null,
   "metadata": {
    "colab": {
     "base_uri": "https://localhost:8080/",
     "height": 281
    },
    "id": "qxYnkCyUmcVe",
    "outputId": "02143681-324f-4a87-822f-61bb79a99238"
   },
   "outputs": [
    {
     "data": {
      "image/png": "[encoded data removed]",
      "text/plain": [
       "<Figure size 432x288 with 1 Axes>"
      ]
     },
     "metadata": {
      "tags": []
     },
     "output_type": "display_data"
    }
   ],
   "source": [
    "col  = age_history.history.keys()\n",
    "for key in col:\n",
    "  ax = sns.lineplot(x = epochs,y = age_history.history[key], label=key)\n",
    "ax.set_title('Total loss In Prediction Of Ages')\n",
    "leg = ax.legend();"
   ]
  },
  {
   "cell_type": "code",
   "execution_count": null,
   "metadata": {
    "colab": {
     "base_uri": "https://localhost:8080/",
     "height": 34
    },
    "id": "ECGoS7Ntm45g",
    "outputId": "6ec6687c-5f3c-4d5f-9f26-893741932b98"
   },
   "outputs": [
    {
     "name": "stdout",
     "output_type": "stream",
     "text": [
      "149/149 [==============================] - 4s 29ms/step - loss: 119.8617 - mae: 7.8394\n"
     ]
    }
   ],
   "source": [
    "test_losses = age_model.evaluate(X_age_test,y_age_test)"
   ]
  },
  {
   "cell_type": "code",
   "execution_count": null,
   "metadata": {
    "id": "nZk2Dhlzulzn"
   },
   "outputs": [],
   "source": []
  }
 ],
 "metadata": {
  "colab": {
   "collapsed_sections": [],
   "name": "cnn with Tf.ipynb",
   "provenance": []
  },
  "kernelspec": {
   "display_name": "Python 3",
   "language": "python",
   "name": "python3"
  },
  "language_info": {
   "codemirror_mode": {
    "name": "ipython",
    "version": 3
   },
   "file_extension": ".py",
   "mimetype": "text/x-python",
   "name": "python",
   "nbconvert_exporter": "python",
   "pygments_lexer": "ipython3",
   "version": "3.8.3"
  }
 },
 "nbformat": 4,
 "nbformat_minor": 1
}
